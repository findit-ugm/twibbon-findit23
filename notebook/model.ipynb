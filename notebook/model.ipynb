{
 "cells": [
  {
   "cell_type": "code",
   "execution_count": 1,
   "metadata": {},
   "outputs": [],
   "source": [
    "# Import the necessary libraries\n",
    "import os\n",
    "import zipfile\n",
    "import random\n",
    "import shutil\n",
    "import tensorflow as tf\n",
    "import matplotlib.pyplot as plt\n",
    "import matplotlib\n",
    "import numpy as np\n",
    "from sklearn.model_selection import train_test_split \n",
    "from random import randint\n",
    "import cv2"
   ]
  },
  {
   "cell_type": "code",
   "execution_count": 3,
   "metadata": {},
   "outputs": [
    {
     "name": "stdout",
     "output_type": "stream",
     "text": [
      "find: /tmp/PetImages/: No such file or directory\n",
      "There are 4916 images of false.\n",
      "There are 4239 images of CTF.\n"
     ]
    }
   ],
   "source": [
    "source_path = '/Users/mdaniyalk/Documents/github/work/twibbon-ai-findit23/notebook/dataset'\n",
    "\n",
    "source_path_false = os.path.join(source_path, 'False')\n",
    "source_path_CTF = os.path.join(source_path, 'CTF')\n",
    "\n",
    "# Deletes all non-image files (there are two .db files bundled into the dataset)\n",
    "!find /tmp/PetImages/ -type f ! -name \"*.jpg\" -exec rm {} +\n",
    "\n",
    "# Deletes corrupt images files\n",
    "class_names = ['False', 'CTF']\n",
    "for _class in class_names:\n",
    "  folder_path = os.path.join(source_path, _class)\n",
    "  for img_file in os.listdir(folder_path):\n",
    "    path = os.path.join(folder_path, img_file)\n",
    "    try:\n",
    "      image=cv2.imread(path)\n",
    "    except:\n",
    "      print(f'Removing {img_file} in {_class}')\n",
    "      # os.remove(path)\n",
    "\n",
    "# os.listdir returns a list containing all files under the given path\n",
    "print(f\"There are {len(os.listdir(source_path_false))} images of false.\")\n",
    "print(f\"There are {len(os.listdir(source_path_CTF))} images of CTF.\")"
   ]
  },
  {
   "cell_type": "code",
   "execution_count": 4,
   "metadata": {},
   "outputs": [],
   "source": [
    "def load_dataset(SOURCE_DIR, CLASS_NAME, TARGET_SIZE):\n",
    "  \"\"\"\n",
    "  Load images and labels from directories\n",
    "  \n",
    "  Args:\n",
    "    SOURCE_DIR (string): directory path containing the images\n",
    "    CLASS_NAME (array_like): Array of class names\n",
    "    TARGET_SIZE (array_like): Dimension of the images\n",
    "    \n",
    "  Returns:\n",
    "    array_like: Images data\n",
    "    array_like: Images label\n",
    "  \"\"\"\n",
    "\n",
    "  dataset = []\n",
    "  label = []\n",
    "\n",
    "  for _class in CLASS_NAME:\n",
    "    tmp_dataset = []\n",
    "    folder_path = os.path.join(SOURCE_DIR, _class)\n",
    "    for img_file in os.listdir(folder_path):\n",
    "      path = os.path.join(folder_path, img_file)\n",
    "      try:\n",
    "        image=cv2.imread(path)\n",
    "      except:\n",
    "        print(f'File {img_file} in {_class} is corrupted')\n",
    "      else:\n",
    "        img=cv2.imread(path)\n",
    "        image = cv2.resize(img, dsize=TARGET_SIZE, interpolation=cv2.INTER_AREA)\n",
    "        image=np.array(image)\n",
    "        tmp_dataset.append(image)\n",
    "        del image\n",
    "        label.append(_class)\n",
    "    dataset.append(np.asarray(tmp_dataset))\n",
    "    del tmp_dataset\n",
    "  dataset = np.concatenate(dataset, axis=0)\n",
    "  \n",
    "  # Label converter\n",
    "  labels = []\n",
    "  for _label in label:\n",
    "    labels.append(CLASS_NAME.index(_label))\n",
    "    \n",
    "  # One hot encoder for multiple classes\n",
    "  if len(CLASS_NAME) > 2:\n",
    "    labels = tf.keras.utils.to_categorical(labels).astype(int)\n",
    "  del label\n",
    "\n",
    "  return dataset, np.asarray(labels)"
   ]
  },
  {
   "cell_type": "code",
   "execution_count": 6,
   "metadata": {},
   "outputs": [],
   "source": [
    "class_name = ['False', 'CTF']\n",
    "dataset, labels = load_dataset(source_path, class_name, (224,224))"
   ]
  },
  {
   "cell_type": "code",
   "execution_count": 7,
   "metadata": {},
   "outputs": [
    {
     "name": "stdout",
     "output_type": "stream",
     "text": [
      "(9155, 224, 224, 3)\n",
      "(9155,)\n"
     ]
    }
   ],
   "source": [
    "# Checking dataset and labels shape\n",
    "print(dataset.shape)\n",
    "print(labels.shape)"
   ]
  },
  {
   "cell_type": "code",
   "execution_count": 8,
   "metadata": {},
   "outputs": [],
   "source": [
    "# Train test split\n",
    "train_data, test_data, label_train, label_test = train_test_split(dataset, labels, train_size=0.99, shuffle=True)"
   ]
  },
  {
   "cell_type": "code",
   "execution_count": 9,
   "metadata": {},
   "outputs": [
    {
     "name": "stdout",
     "output_type": "stream",
     "text": [
      "(9063, 224, 224, 3)\n",
      "(9063,)\n",
      "(92, 224, 224, 3)\n",
      "(92,)\n"
     ]
    }
   ],
   "source": [
    "# Checking train, test, and it's label shape\n",
    "print(train_data.shape)\n",
    "print(label_train.shape)\n",
    "print(test_data.shape)\n",
    "print(label_test.shape)"
   ]
  },
  {
   "cell_type": "code",
   "execution_count": 14,
   "metadata": {},
   "outputs": [],
   "source": [
    "def create_model():\n",
    "\n",
    "  model = tf.keras.models.Sequential([ \n",
    "      tf.keras.layers.Lambda(lambda x: x/255, input_shape=(224, 224, 3)), # Normalize the input images\n",
    "      tf.keras.layers.Conv2D(16, (5,5), activation='relu'),\n",
    "      tf.keras.layers.Conv2D(32, (3,3), activation='relu'),\n",
    "      tf.keras.layers.MaxPooling2D(2,2),\n",
    "      tf.keras.layers.Conv2D(64, (3,3), activation='relu'),\n",
    "      tf.keras.layers.Conv2D(128, (3,3), activation='relu'),\n",
    "      tf.keras.layers.MaxPooling2D(2,2),\n",
    "      # tf.keras.layers.BatchNormalization(), # Uncomment to use BatchNormalization\n",
    "      tf.keras.layers.GlobalAveragePooling2D(),\n",
    "      # tf.keras.layers.Flatten(), # If you use GlobalAveragePooling, comment this line\n",
    "      tf.keras.layers.Dense(256, activation='relu'),\n",
    "      tf.keras.layers.Dropout(0.2), # Uncomment to use dropout\n",
    "      tf.keras.layers.Dense(1, activation='sigmoid', name=\"output\")\n",
    "  ])\n",
    "\n",
    "  \n",
    "  model.compile(loss='binary_crossentropy',\n",
    "              optimizer=tf.keras.optimizers.Adam(learning_rate=0.001),\n",
    "              metrics=['accuracy'])\n",
    "    \n",
    "\n",
    "  return model"
   ]
  },
  {
   "cell_type": "code",
   "execution_count": 15,
   "metadata": {},
   "outputs": [],
   "source": [
    "# Get the untrained model\n",
    "# tf.keras.backend.set_floatx('float16')\n",
    "\n",
    "model = create_model()"
   ]
  },
  {
   "cell_type": "code",
   "execution_count": 16,
   "metadata": {},
   "outputs": [
    {
     "name": "stdout",
     "output_type": "stream",
     "text": [
      "Model: \"sequential_1\"\n",
      "_________________________________________________________________\n",
      " Layer (type)                Output Shape              Param #   \n",
      "=================================================================\n",
      " lambda_1 (Lambda)           (None, 224, 224, 3)       0         \n",
      "                                                                 \n",
      " conv2d_4 (Conv2D)           (None, 220, 220, 16)      1216      \n",
      "                                                                 \n",
      " conv2d_5 (Conv2D)           (None, 218, 218, 32)      4640      \n",
      "                                                                 \n",
      " max_pooling2d_2 (MaxPooling  (None, 109, 109, 32)     0         \n",
      " 2D)                                                             \n",
      "                                                                 \n",
      " conv2d_6 (Conv2D)           (None, 107, 107, 64)      18496     \n",
      "                                                                 \n",
      " conv2d_7 (Conv2D)           (None, 105, 105, 128)     73856     \n",
      "                                                                 \n",
      " max_pooling2d_3 (MaxPooling  (None, 52, 52, 128)      0         \n",
      " 2D)                                                             \n",
      "                                                                 \n",
      " global_average_pooling2d_1   (None, 128)              0         \n",
      " (GlobalAveragePooling2D)                                        \n",
      "                                                                 \n",
      " dense_1 (Dense)             (None, 256)               33024     \n",
      "                                                                 \n",
      " dropout_1 (Dropout)         (None, 256)               0         \n",
      "                                                                 \n",
      " output (Dense)              (None, 1)                 257       \n",
      "                                                                 \n",
      "=================================================================\n",
      "Total params: 131,489\n",
      "Trainable params: 131,489\n",
      "Non-trainable params: 0\n",
      "_________________________________________________________________\n"
     ]
    }
   ],
   "source": [
    "# Display model architecture\n",
    "model.summary()"
   ]
  },
  {
   "cell_type": "code",
   "execution_count": 17,
   "metadata": {},
   "outputs": [
    {
     "name": "stdout",
     "output_type": "stream",
     "text": [
      "Epoch 1/5\n"
     ]
    },
    {
     "name": "stderr",
     "output_type": "stream",
     "text": [
      "2023-02-28 02:02:53.468724: I tensorflow/core/grappler/optimizers/custom_graph_optimizer_registry.cc:114] Plugin optimizer for device_type GPU is enabled.\n"
     ]
    },
    {
     "name": "stdout",
     "output_type": "stream",
     "text": [
      "114/114 [==============================] - ETA: 0s - loss: 0.2702 - accuracy: 0.8756"
     ]
    },
    {
     "name": "stderr",
     "output_type": "stream",
     "text": [
      "2023-02-28 02:04:16.416222: I tensorflow/core/grappler/optimizers/custom_graph_optimizer_registry.cc:114] Plugin optimizer for device_type GPU is enabled.\n"
     ]
    },
    {
     "name": "stdout",
     "output_type": "stream",
     "text": [
      "114/114 [==============================] - 90s 766ms/step - loss: 0.2702 - accuracy: 0.8756 - val_loss: 0.0731 - val_accuracy: 0.9868\n",
      "Epoch 2/5\n",
      "114/114 [==============================] - 89s 782ms/step - loss: 0.0625 - accuracy: 0.9886 - val_loss: 0.0660 - val_accuracy: 0.9901\n",
      "Epoch 3/5\n",
      "114/114 [==============================] - 85s 748ms/step - loss: 0.0657 - accuracy: 0.9880 - val_loss: 0.0333 - val_accuracy: 0.9917\n",
      "Epoch 4/5\n",
      "114/114 [==============================] - 94s 823ms/step - loss: 0.0382 - accuracy: 0.9928 - val_loss: 0.0247 - val_accuracy: 0.9950\n",
      "Epoch 5/5\n",
      "114/114 [==============================] - 86s 750ms/step - loss: 0.0302 - accuracy: 0.9941 - val_loss: 0.0244 - val_accuracy: 0.9956\n"
     ]
    }
   ],
   "source": [
    "# Train the model\n",
    "# Note that this may take some time.\n",
    "history = model.fit(train_data, label_train,batch_size=64, validation_split=0.2, epochs=5)"
   ]
  },
  {
   "cell_type": "code",
   "execution_count": 12,
   "metadata": {},
   "outputs": [
    {
     "data": {
      "image/png": "[encoded data removed]",
      "text/plain": [
       "<Figure size 640x480 with 1 Axes>"
      ]
     },
     "metadata": {},
     "output_type": "display_data"
    },
    {
     "name": "stdout",
     "output_type": "stream",
     "text": [
      "\n"
     ]
    },
    {
     "data": {
      "image/png": "[encoded data removed]",
      "text/plain": [
       "<Figure size 640x480 with 1 Axes>"
      ]
     },
     "metadata": {},
     "output_type": "display_data"
    }
   ],
   "source": [
    "# Retrieve a list of list results on training and test data\n",
    "# sets for each training epoch\n",
    "acc=history.history['accuracy']\n",
    "val_acc=history.history['val_accuracy']\n",
    "loss=history.history['loss']\n",
    "val_loss=history.history['val_loss']\n",
    "\n",
    "epochs=range(len(acc)) # Get number of epochs\n",
    "\n",
    "# Plot training and validation accuracy per epoch\n",
    "plt.plot(epochs, acc, 'r', label='acc')\n",
    "plt.plot(epochs, val_acc, 'b', label='val_acc')\n",
    "plt.title('Training and validation accuracy')\n",
    "plt.legend()\n",
    "plt.show()\n",
    "print(\"\")\n",
    "\n",
    "# Plot training and validation loss per epoch\n",
    "plt.plot(epochs, loss, 'r', label='loss')\n",
    "plt.plot(epochs, val_loss, 'b', label='val_loss')\n",
    "plt.title('Training and validation loss')\n",
    "plt.legend()\n",
    "plt.show()"
   ]
  },
  {
   "cell_type": "code",
   "execution_count": 18,
   "metadata": {},
   "outputs": [
    {
     "name": "stderr",
     "output_type": "stream",
     "text": [
      "2023-02-28 02:10:16.956769: I tensorflow/core/grappler/optimizers/custom_graph_optimizer_registry.cc:114] Plugin optimizer for device_type GPU is enabled.\n"
     ]
    },
    {
     "name": "stdout",
     "output_type": "stream",
     "text": [
      "1/1 [==============================] - 1s 563ms/step\n",
      "1/1 [==============================] - 0s 15ms/step\n",
      "1/1 [==============================] - 0s 16ms/step\n",
      "1/1 [==============================] - 0s 15ms/step\n",
      "1/1 [==============================] - 0s 14ms/step\n",
      "1/1 [==============================] - 0s 13ms/step\n",
      "1/1 [==============================] - 0s 13ms/step\n",
      "1/1 [==============================] - 0s 17ms/step\n",
      "1/1 [==============================] - 0s 12ms/step\n",
      "1/1 [==============================] - 0s 12ms/step\n",
      "1/1 [==============================] - 0s 13ms/step\n",
      "1/1 [==============================] - 0s 12ms/step\n",
      "1/1 [==============================] - 0s 13ms/step\n",
      "1/1 [==============================] - 0s 13ms/step\n",
      "1/1 [==============================] - 0s 13ms/step\n",
      "1/1 [==============================] - 0s 12ms/step\n",
      "1/1 [==============================] - 0s 13ms/step\n",
      "1/1 [==============================] - 0s 13ms/step\n",
      "1/1 [==============================] - 0s 13ms/step\n",
      "1/1 [==============================] - 0s 13ms/step\n",
      "1/1 [==============================] - 0s 12ms/step\n",
      "1/1 [==============================] - 0s 13ms/step\n",
      "1/1 [==============================] - 0s 13ms/step\n",
      "1/1 [==============================] - 0s 14ms/step\n",
      "1/1 [==============================] - 0s 13ms/step\n",
      "1/1 [==============================] - 0s 13ms/step\n",
      "1/1 [==============================] - 0s 12ms/step\n",
      "1/1 [==============================] - 0s 12ms/step\n",
      "1/1 [==============================] - 0s 12ms/step\n",
      "1/1 [==============================] - 0s 12ms/step\n",
      "1/1 [==============================] - 0s 12ms/step\n",
      "1/1 [==============================] - 0s 13ms/step\n",
      "1/1 [==============================] - 0s 13ms/step\n",
      "1/1 [==============================] - 0s 14ms/step\n",
      "1/1 [==============================] - 0s 14ms/step\n",
      "1/1 [==============================] - 0s 14ms/step\n",
      "1/1 [==============================] - 0s 13ms/step\n",
      "1/1 [==============================] - 0s 13ms/step\n",
      "1/1 [==============================] - 0s 13ms/step\n",
      "1/1 [==============================] - 0s 13ms/step\n",
      "1/1 [==============================] - 0s 13ms/step\n",
      "1/1 [==============================] - 0s 13ms/step\n",
      "1/1 [==============================] - 0s 14ms/step\n",
      "1/1 [==============================] - 0s 14ms/step\n",
      "1/1 [==============================] - 0s 13ms/step\n",
      "1/1 [==============================] - 0s 14ms/step\n",
      "1/1 [==============================] - 0s 13ms/step\n",
      "1/1 [==============================] - 0s 15ms/step\n",
      "1/1 [==============================] - 0s 18ms/step\n",
      "1/1 [==============================] - 0s 14ms/step\n",
      "1/1 [==============================] - 0s 14ms/step\n",
      "1/1 [==============================] - 0s 26ms/step\n",
      "1/1 [==============================] - 0s 18ms/step\n",
      "1/1 [==============================] - 0s 15ms/step\n",
      "1/1 [==============================] - 0s 16ms/step\n",
      "1/1 [==============================] - 0s 15ms/step\n",
      "1/1 [==============================] - 0s 13ms/step\n",
      "1/1 [==============================] - 0s 14ms/step\n",
      "1/1 [==============================] - 0s 13ms/step\n",
      "1/1 [==============================] - 0s 15ms/step\n",
      "1/1 [==============================] - 0s 21ms/step\n",
      "1/1 [==============================] - 0s 21ms/step\n",
      "1/1 [==============================] - 0s 14ms/step\n",
      "1/1 [==============================] - 0s 13ms/step\n",
      "1/1 [==============================] - 0s 13ms/step\n",
      "1/1 [==============================] - 0s 12ms/step\n",
      "1/1 [==============================] - 0s 12ms/step\n",
      "1/1 [==============================] - 0s 12ms/step\n",
      "1/1 [==============================] - 0s 13ms/step\n",
      "1/1 [==============================] - 0s 13ms/step\n",
      "1/1 [==============================] - 0s 13ms/step\n",
      "1/1 [==============================] - 0s 12ms/step\n",
      "1/1 [==============================] - 0s 12ms/step\n",
      "1/1 [==============================] - 0s 12ms/step\n",
      "1/1 [==============================] - 0s 13ms/step\n",
      "1/1 [==============================] - 0s 12ms/step\n",
      "1/1 [==============================] - 0s 12ms/step\n",
      "1/1 [==============================] - 0s 13ms/step\n",
      "1/1 [==============================] - 0s 13ms/step\n",
      "1/1 [==============================] - 0s 12ms/step\n",
      "1/1 [==============================] - 0s 12ms/step\n",
      "1/1 [==============================] - 0s 12ms/step\n",
      "1/1 [==============================] - 0s 12ms/step\n",
      "1/1 [==============================] - 0s 15ms/step\n",
      "1/1 [==============================] - 0s 16ms/step\n",
      "1/1 [==============================] - 0s 15ms/step\n",
      "1/1 [==============================] - 0s 14ms/step\n",
      "1/1 [==============================] - 0s 14ms/step\n",
      "1/1 [==============================] - 0s 14ms/step\n",
      "1/1 [==============================] - 0s 15ms/step\n",
      "1/1 [==============================] - 0s 16ms/step\n",
      "1/1 [==============================] - 0s 16ms/step\n"
     ]
    }
   ],
   "source": [
    "import timeit\n",
    "time = []\n",
    "for data in test_data:\n",
    "    start = timeit.default_timer()\n",
    "    data = np.expand_dims(data, axis=0)\n",
    "    \n",
    "    model.predict(data)\n",
    "    end = timeit.default_timer()\n",
    "    time.append(end - start)"
   ]
  },
  {
   "cell_type": "code",
   "execution_count": 19,
   "metadata": {},
   "outputs": [
    {
     "name": "stdout",
     "output_type": "stream",
     "text": [
      "Max time= 0.6847050827927887\n",
      "Min time= 0.03002708265557885\n",
      "Avg time= 0.04633940264845834\n"
     ]
    }
   ],
   "source": [
    "print(f\"Max time= {np.max(np.array(time))}\")\n",
    "print(f\"Min time= {np.min(np.array(time))}\")\n",
    "print(f\"Avg time= {np.average(np.array(time))}\")"
   ]
  },
  {
   "cell_type": "code",
   "execution_count": 25,
   "metadata": {},
   "outputs": [
    {
     "name": "stdout",
     "output_type": "stream",
     "text": [
      "1/1 [==============================] - 0s 61ms/step\n"
     ]
    },
    {
     "data": {
      "text/plain": [
       "(1, 1)"
      ]
     },
     "execution_count": 25,
     "metadata": {},
     "output_type": "execute_result"
    }
   ],
   "source": [
    "a =model.predict(data)\n",
    "a.shape"
   ]
  },
  {
   "cell_type": "code",
   "execution_count": 35,
   "metadata": {},
   "outputs": [
    {
     "data": {
      "text/plain": [
       "1"
      ]
     },
     "execution_count": 35,
     "metadata": {},
     "output_type": "execute_result"
    }
   ],
   "source": [
    "int(np.round(a.flatten()[0]))"
   ]
  },
  {
   "cell_type": "code",
   "execution_count": 20,
   "metadata": {},
   "outputs": [],
   "source": [
    "model_path = 'model_twibbbon.h5'"
   ]
  },
  {
   "cell_type": "code",
   "execution_count": 21,
   "metadata": {},
   "outputs": [],
   "source": [
    "model.save(model_path)"
   ]
  },
  {
   "cell_type": "code",
   "execution_count": 22,
   "metadata": {},
   "outputs": [
    {
     "name": "stdout",
     "output_type": "stream",
     "text": [
      "3/3 [==============================] - 0s 104ms/step\n",
      "Original model acc on test set=0.9891304347826086\n"
     ]
    }
   ],
   "source": [
    "from sklearn.metrics import accuracy_score\n",
    "\n",
    "yhat1 = model.predict(test_data)\n",
    "yhat1 = np.round(np.array(yhat1))\n",
    "\n",
    "ytrue = label_test\n",
    "\n",
    "accuracy2 = accuracy_score(ytrue, yhat1)\n",
    "print(f'Original model acc on test set={accuracy2}')"
   ]
  }
 ],
 "metadata": {
  "kernelspec": {
   "display_name": "tf-metal",
   "language": "python",
   "name": "python3"
  },
  "language_info": {
   "codemirror_mode": {
    "name": "ipython",
    "version": 3
   },
   "file_extension": ".py",
   "mimetype": "text/x-python",
   "name": "python",
   "nbconvert_exporter": "python",
   "pygments_lexer": "ipython3",
   "version": "3.10.9"
  },
  "orig_nbformat": 4,
  "vscode": {
   "interpreter": {
    "hash": "5808a932c091ab31c8c44acf4a854a48731aa9e30b67ddae04281bd67873f5ad"
   }
  }
 },
 "nbformat": 4,
 "nbformat_minor": 2
}
