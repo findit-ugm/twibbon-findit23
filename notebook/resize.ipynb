{
 "cells": [
  {
   "cell_type": "code",
   "execution_count": 1,
   "metadata": {},
   "outputs": [],
   "source": [
    "import cv2\n",
    "import os\n",
    "import tensorflow as tf"
   ]
  },
  {
   "attachments": {},
   "cell_type": "markdown",
   "metadata": {},
   "source": [
    "salah no twibbon"
   ]
  },
  {
   "cell_type": "code",
   "execution_count": 2,
   "metadata": {},
   "outputs": [
    {
     "name": "stdout",
     "output_type": "stream",
     "text": [
      "Removing .DS_Store\n",
      "There are 2379 images.\n"
     ]
    }
   ],
   "source": [
    "source_path = '/Users/mdaniyalk/Documents/github/work/twibbon-ai-findit23/dataset/salah'\n",
    "\n",
    "# Deletes corrupt images files\n",
    "\n",
    "for img_file in os.listdir(source_path):\n",
    "    path = os.path.join(source_path, img_file)\n",
    "    try:\n",
    "        image=tf.keras.preprocessing.image.load_img(path)\n",
    "    except:\n",
    "        print(f'Removing {img_file}')\n",
    "        os.remove(path)\n",
    "\n",
    "# os.listdir returns a list containing all files under the given path\n",
    "print(f\"There are {len(os.listdir(os.path.join(source_path)))} images.\")"
   ]
  },
  {
   "cell_type": "code",
   "execution_count": 4,
   "metadata": {},
   "outputs": [
    {
     "name": "stdout",
     "output_type": "stream",
     "text": [
      "There are 2379 images.\n"
     ]
    }
   ],
   "source": [
    "dest_path = '/Users/mdaniyalk/Documents/github/work/twibbon-ai-findit23/dataset/salah-2'\n",
    "# Resize all images\n",
    "i = 0\n",
    "for img_file in os.listdir(source_path):\n",
    "    path = os.path.join(source_path, img_file)\n",
    "    img = cv2.imread(path)\n",
    "    img_resize = cv2.resize(img, dsize=(1000, 1000), interpolation=cv2.INTER_AREA)\n",
    "    cv2.imwrite(f'{dest_path}/{i}.jpg', img_resize)\n",
    "    i+=1\n",
    "# os.listdir returns a list containing all files under the given path\n",
    "print(f\"There are {len(os.listdir(os.path.join(source_path)))} images.\")"
   ]
  },
  {
   "attachments": {},
   "cell_type": "markdown",
   "metadata": {},
   "source": [
    "salah with twibbon"
   ]
  },
  {
   "cell_type": "code",
   "execution_count": 6,
   "metadata": {},
   "outputs": [
    {
     "name": "stdout",
     "output_type": "stream",
     "text": [
      "There are 677 images.\n"
     ]
    }
   ],
   "source": [
    "source_path = '/Users/mdaniyalk/Documents/github/work/twibbon-ai-findit23/dataset/other-twibbon'\n",
    "\n",
    "# Deletes corrupt images files\n",
    "\n",
    "for img_file in os.listdir(source_path):\n",
    "    path = os.path.join(source_path, img_file)\n",
    "    try:\n",
    "        image=tf.keras.preprocessing.image.load_img(path)\n",
    "    except:\n",
    "        print(f'Removing {img_file}')\n",
    "        os.remove(path)\n",
    "\n",
    "# os.listdir returns a list containing all files under the given path\n",
    "print(f\"There are {len(os.listdir(os.path.join(source_path)))} images.\")"
   ]
  },
  {
   "cell_type": "code",
   "execution_count": 7,
   "metadata": {},
   "outputs": [
    {
     "name": "stdout",
     "output_type": "stream",
     "text": [
      "There are 677 images.\n"
     ]
    }
   ],
   "source": [
    "dest_path = '/Users/mdaniyalk/Documents/github/work/twibbon-ai-findit23/dataset/other-twibbon-2'\n",
    "# Resize all images\n",
    "i = 2379\n",
    "for img_file in os.listdir(source_path):\n",
    "    path = os.path.join(source_path, img_file)\n",
    "    img = cv2.imread(path)\n",
    "    img_resize = cv2.resize(img, dsize=(1000, 1000), interpolation=cv2.INTER_AREA)\n",
    "    cv2.imwrite(f'{dest_path}/{i}.jpg', img_resize)\n",
    "    i+=1\n",
    "# os.listdir returns a list containing all files under the given path\n",
    "print(f\"There are {len(os.listdir(os.path.join(source_path)))} images.\")"
   ]
  },
  {
   "attachments": {},
   "cell_type": "markdown",
   "metadata": {},
   "source": [
    "additional"
   ]
  },
  {
   "cell_type": "code",
   "execution_count": 8,
   "metadata": {},
   "outputs": [
    {
     "name": "stdout",
     "output_type": "stream",
     "text": [
      "Removing .DS_Store\n",
      "There are 1860 images.\n"
     ]
    }
   ],
   "source": [
    "source_path = '/Users/mdaniyalk/Documents/github/work/twibbon-ai-findit23/dataset/additional'\n",
    "\n",
    "# Deletes corrupt images files\n",
    "\n",
    "for img_file in os.listdir(source_path):\n",
    "    path = os.path.join(source_path, img_file)\n",
    "    try:\n",
    "        image=tf.keras.preprocessing.image.load_img(path)\n",
    "    except:\n",
    "        print(f'Removing {img_file}')\n",
    "        os.remove(path)\n",
    "\n",
    "# os.listdir returns a list containing all files under the given path\n",
    "print(f\"There are {len(os.listdir(os.path.join(source_path)))} images.\")"
   ]
  },
  {
   "cell_type": "code",
   "execution_count": 10,
   "metadata": {},
   "outputs": [
    {
     "name": "stdout",
     "output_type": "stream",
     "text": [
      "There are 1860 images.\n"
     ]
    }
   ],
   "source": [
    "dest_path = '/Users/mdaniyalk/Documents/github/work/twibbon-ai-findit23/dataset/additional-2'\n",
    "# Resize all images\n",
    "i = 3056\n",
    "for img_file in os.listdir(source_path):\n",
    "    path = os.path.join(source_path, img_file)\n",
    "    img = cv2.imread(path)\n",
    "    img_resize = cv2.resize(img, dsize=(1000, 1000), interpolation=cv2.INTER_AREA)\n",
    "    cv2.imwrite(f'{dest_path}/{i}.jpg', img_resize)\n",
    "    i+=1\n",
    "# os.listdir returns a list containing all files under the given path\n",
    "print(f\"There are {len(os.listdir(os.path.join(source_path)))} images.\")"
   ]
  }
 ],
 "metadata": {
  "kernelspec": {
   "display_name": "Python 3",
   "language": "python",
   "name": "python3"
  },
  "language_info": {
   "codemirror_mode": {
    "name": "ipython",
    "version": 3
   },
   "file_extension": ".py",
   "mimetype": "text/x-python",
   "name": "python",
   "nbconvert_exporter": "python",
   "pygments_lexer": "ipython3",
   "version": "3.9.13"
  },
  "orig_nbformat": 4,
  "vscode": {
   "interpreter": {
    "hash": "949777d72b0d2535278d3dc13498b2535136f6dfe0678499012e853ee9abcab1"
   }
  }
 },
 "nbformat": 4,
 "nbformat_minor": 2
}
